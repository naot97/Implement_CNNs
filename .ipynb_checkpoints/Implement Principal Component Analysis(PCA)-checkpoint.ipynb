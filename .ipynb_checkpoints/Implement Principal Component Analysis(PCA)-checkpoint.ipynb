{
 "cells": [
  {
   "cell_type": "markdown",
   "metadata": {
    "colab_type": "text",
    "id": "pVCsCjCbR_uy"
   },
   "source": [
    "#Excercise of PCA"
   ]
  },
  {
   "cell_type": "code",
   "execution_count": 0,
   "metadata": {
    "colab": {},
    "colab_type": "code",
    "id": "i1M6gmuAAJtv"
   },
   "outputs": [],
   "source": [
    "import numpy as np\n",
    "import matplotlib.pyplot as plt\n"
   ]
  },
  {
   "cell_type": "markdown",
   "metadata": {
    "colab_type": "text",
    "id": "o2eHTb_9QA0W"
   },
   "source": [
    "##Data"
   ]
  },
  {
   "cell_type": "code",
   "execution_count": 2,
   "metadata": {
    "colab": {
     "base_uri": "https://localhost:8080/",
     "height": 212
    },
    "colab_type": "code",
    "executionInfo": {
     "elapsed": 1426,
     "status": "ok",
     "timestamp": 1544548789370,
     "user": {
      "displayName": "TOÀN NGUYỄN DUY VIỆT",
      "photoUrl": "",
      "userId": "18301338610348705581"
     },
     "user_tz": -420
    },
    "id": "uNlWe3QNAkib",
    "outputId": "904e253a-c3df-4625-b4df-aa9c0e744c98"
   },
   "outputs": [
    {
     "name": "stdout",
     "output_type": "stream",
     "text": [
      "[1.81 1.91]\n",
      "[[ 0.69  0.49]\n",
      " [-1.31 -1.21]\n",
      " [ 0.39  0.99]\n",
      " [ 0.09  0.29]\n",
      " [ 1.29  1.09]\n",
      " [ 0.49  0.79]\n",
      " [ 0.19 -0.31]\n",
      " [-0.81 -0.81]\n",
      " [-0.31 -0.31]\n",
      " [-0.71 -1.01]]\n"
     ]
    }
   ],
   "source": [
    "#processing data\n",
    "x = np.array([\n",
    "    [2.5,2.4],[0.5, 0.7],[2.2, 2.9], [1.9, 2.2], [3.1, 3.0], [2.3, 2.7], [2, 1.6], [1 , 1.1], [1.5, 1.6], [1.1, 0.9]])\n",
    "\n",
    "m = x.mean(axis = 0)\n",
    "print(m)\n",
    "\n",
    "variance  = x - m\n",
    "print(variance)\n"
   ]
  },
  {
   "cell_type": "markdown",
   "metadata": {
    "colab_type": "text",
    "id": "hUwMq7kJQFHQ"
   },
   "source": [
    "##Find  eigvectors and new points"
   ]
  },
  {
   "cell_type": "code",
   "execution_count": 3,
   "metadata": {
    "colab": {
     "base_uri": "https://localhost:8080/",
     "height": 444
    },
    "colab_type": "code",
    "executionInfo": {
     "elapsed": 1409,
     "status": "ok",
     "timestamp": 1544548789371,
     "user": {
      "displayName": "TOÀN NGUYỄN DUY VIỆT",
      "photoUrl": "",
      "userId": "18301338610348705581"
     },
     "user_tz": -420
    },
    "id": "E3a-ufzcB9nB",
    "outputId": "e734bed5-8a74-4eaa-9d8b-41dec7d4f656"
   },
   "outputs": [
    {
     "name": "stdout",
     "output_type": "stream",
     "text": [
      "[[-0.73517866 -0.6778734 ]\n",
      " [ 0.6778734  -0.73517866]]\n",
      "[ 0.44175059 11.55624941]\n",
      "1\n",
      "[[-0.82797019]\n",
      " [ 1.77758033]\n",
      " [-0.99219749]\n",
      " [-0.27421042]\n",
      " [-1.67580142]\n",
      " [-0.9129491 ]\n",
      " [ 0.09910944]\n",
      " [ 1.14457216]\n",
      " [ 0.43804614]\n",
      " [ 1.22382056]]\n",
      "[[2.37125896 2.51870601]\n",
      " [0.60502558 0.60316089]\n",
      " [2.48258429 2.63944242]\n",
      " [1.99587995 2.11159364]\n",
      " [2.9459812  3.14201343]\n",
      " [2.42886391 2.58118069]\n",
      " [1.74281635 1.83713686]\n",
      " [1.03412498 1.06853498]\n",
      " [1.51306018 1.58795783]\n",
      " [0.9804046  1.01027325]]\n"
     ]
    }
   ],
   "source": [
    "#cov matrix\n",
    "C = np.dot(variance.T,variance)\n",
    "\n",
    "#eigvector and eigvalue\n",
    "lamda,v = np.linalg.eig(C)\n",
    "print(v)\n",
    "print(lamda)\n",
    "id = np.argmax(lamda)\n",
    "print(id)\n",
    "\n",
    "#new points\n",
    "xx = np.dot(v[:,id],variance.T).reshape(len(x),1)\n",
    "print(xx)\n",
    "o = np.dot(xx,v[:,id].reshape(len(v),1).T) + m \n",
    "print(o)"
   ]
  },
  {
   "cell_type": "markdown",
   "metadata": {
    "colab_type": "text",
    "id": "dEu9cfrAQPbv"
   },
   "source": [
    "##Plot"
   ]
  },
  {
   "cell_type": "code",
   "execution_count": 4,
   "metadata": {
    "colab": {
     "base_uri": "https://localhost:8080/",
     "height": 347
    },
    "colab_type": "code",
    "executionInfo": {
     "elapsed": 1794,
     "status": "ok",
     "timestamp": 1544548789769,
     "user": {
      "displayName": "TOÀN NGUYỄN DUY VIỆT",
      "photoUrl": "",
      "userId": "18301338610348705581"
     },
     "user_tz": -420
    },
    "id": "RTBXwOCARE7s",
    "outputId": "f7455015-b874-4b22-a014-02ccefcacec7"
   },
   "outputs": [
    {
     "data": {
      "image/png": "[encoded data removed]",
      "text/plain": [
       "<matplotlib.figure.Figure at 0x7eff5b6f02b0>"
      ]
     },
     "metadata": {
      "tags": []
     },
     "output_type": "display_data"
    }
   ],
   "source": [
    "#plot \n",
    "plt.plot(x[:,0], x[:,1], 'ro')\n",
    "plt.plot(m[0],m[1],'gs')\n",
    "plt.plot(o[:,0],o[:,1])\n",
    "plt.plot(o[:,0],o[:,1],'bs')\n",
    "\n",
    "for i in range(len(xx)):\n",
    "    plt.plot(np.array([x[i,0],o[i,0]] ) ,np.array([x[i,1],o[i,1]] ),'k-')\n",
    "    \n",
    "plt.show()\n"
   ]
  }
 ],
 "metadata": {
  "colab": {
   "collapsed_sections": [],
   "name": "Implement PCA.ipynb",
   "provenance": [],
   "version": "0.3.2"
  },
  "kernelspec": {
   "display_name": "Python 3",
   "language": "python",
   "name": "python3"
  },
  "language_info": {
   "codemirror_mode": {
    "name": "ipython",
    "version": 3
   },
   "file_extension": ".py",
   "mimetype": "text/x-python",
   "name": "python",
   "nbconvert_exporter": "python",
   "pygments_lexer": "ipython3",
   "version": "3.7.6"
  }
 },
 "nbformat": 4,
 "nbformat_minor": 1
}
